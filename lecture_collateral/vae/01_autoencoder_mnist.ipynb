{
 "cells": [
  {
   "cell_type": "markdown",
   "metadata": {},
   "source": [
    "# Autoencoder Trained on MNIST\n",
    "\n",
    "A PyTorch flavor of the code at From https://towardsdatascience.com/auto-encoder-what-is-it-and-what-is-it-used-for-part-1-3e5c6f017726/ and\n",
    "https://gist.github.com/wmlba/ed6448da9dce3a3c0f6ee78e972dd07b#file-autoencoder_feedforward-py."
   ]
  },
  {
   "cell_type": "markdown",
   "metadata": {},
   "source": [
    "[![Open In Colab](https://colab.research.google.com/assets/colab-badge.svg)](https://colab.research.google.com/github/DL4DS/sp2025_homeworks/blob/main/lecture_collateral/vae/01_autoencoder_mnist.ipynb)\n"
   ]
  },
  {
   "cell_type": "code",
   "execution_count": 1,
   "metadata": {},
   "outputs": [],
   "source": [
    "import torch\n",
    "import torch.nn as nn\n",
    "import torch.optim as optim\n",
    "from torchvision import datasets, transforms\n",
    "from torch.utils.data import DataLoader\n",
    "import matplotlib.pyplot as plt\n",
    "import numpy as np\n",
    "import random\n",
    "import os\n"
   ]
  },
  {
   "cell_type": "code",
   "execution_count": 2,
   "metadata": {},
   "outputs": [],
   "source": [
    "# Create data directory if it doesn't exist\n",
    "os.makedirs('./data', exist_ok=True)"
   ]
  },
  {
   "cell_type": "code",
   "execution_count": 3,
   "metadata": {},
   "outputs": [],
   "source": [
    "# Define the Autoencoder architecture\n",
    "class Autoencoder(nn.Module):\n",
    "    def __init__(self):\n",
    "        super(Autoencoder, self).__init__()\n",
    "        # Encoder\n",
    "        self.encoder = nn.Sequential(\n",
    "            nn.Linear(784, 512),\n",
    "            nn.ELU(),\n",
    "            nn.Linear(512, 128),\n",
    "            nn.ELU(),\n",
    "            nn.Linear(128, 10),  # bottleneck\n",
    "        )\n",
    "        # Decoder\n",
    "        self.decoder = nn.Sequential(\n",
    "            nn.Linear(10, 128),\n",
    "            nn.ELU(),\n",
    "            nn.Linear(128, 512),\n",
    "            nn.ELU(),\n",
    "            nn.Linear(512, 784),\n",
    "            nn.Sigmoid()\n",
    "        )\n",
    "\n",
    "    def forward(self, x):\n",
    "        encoded = self.encoder(x)\n",
    "        decoded = self.decoder(encoded)\n",
    "        return decoded\n",
    "\n",
    "    def encode(self, x):\n",
    "        return self.encoder(x)\n",
    "\n",
    "    def decode(self, z):\n",
    "        return self.decoder(z)\n"
   ]
  },
  {
   "cell_type": "code",
   "execution_count": 4,
   "metadata": {},
   "outputs": [
    {
     "name": "stdout",
     "output_type": "stream",
     "text": [
      "Using device: mps\n",
      "Training dataset size: 60000\n",
      "Test dataset size: 10000\n"
     ]
    }
   ],
   "source": [
    "\n",
    "# Set device\n",
    "device = torch.device('mps' if torch.backends.mps.is_available() else 'cuda' if torch.cuda.is_available() else 'cpu')\n",
    "print(f\"Using device: {device}\")\n",
    "\n",
    "# Load MNIST dataset\n",
    "transform = transforms.Compose([\n",
    "    transforms.ToTensor(),\n",
    "#    transforms.Normalize((0.1307,), (0.3081,))\n",
    "])\n",
    "\n",
    "train_dataset = datasets.MNIST('./data', train=True, download=True, transform=transform)\n",
    "test_dataset = datasets.MNIST('./data', train=False, transform=transform)\n",
    "\n",
    "print(f\"Training dataset size: {len(train_dataset)}\")\n",
    "print(f\"Test dataset size: {len(test_dataset)}\")\n",
    "\n",
    "train_loader = DataLoader(train_dataset, batch_size=1024, shuffle=True)\n",
    "test_loader = DataLoader(test_dataset, batch_size=1024, shuffle=False)\n"
   ]
  },
  {
   "cell_type": "code",
   "execution_count": 5,
   "metadata": {},
   "outputs": [],
   "source": [
    "\n",
    "# Training loop\n",
    "def train(model, optimizer, criterion, epochs):\n",
    "    for epoch in range(epochs):\n",
    "        model.train()\n",
    "        train_loss = 0\n",
    "        for batch_idx, (data, _) in enumerate(train_loader):\n",
    "            data = data.view(data.size(0), -1).to(device)\n",
    "            \n",
    "            optimizer.zero_grad()\n",
    "            output = model(data)\n",
    "            loss = criterion(output, data)\n",
    "            loss.backward()\n",
    "            optimizer.step()\n",
    "            \n",
    "            train_loss += loss.item()\n",
    "            \n",
    "        print(f'Epoch: {epoch+1}, Average Loss: {train_loss / len(train_loader):.4f}')\n"
   ]
  },
  {
   "cell_type": "code",
   "execution_count": 6,
   "metadata": {},
   "outputs": [],
   "source": [
    "# Get encoded representations and reconstructions\n",
    "def get_representations(loader, model):\n",
    "    model.eval()\n",
    "    encoded_data = []\n",
    "    decoded_data = []\n",
    "    original_data = []\n",
    "    with torch.no_grad():\n",
    "        for data, _ in loader:\n",
    "            data = data.view(data.size(0), -1).to(device)\n",
    "            encoded = model.encode(data)\n",
    "            decoded = model.decode(encoded)\n",
    "            encoded_data.append(encoded)\n",
    "            decoded_data.append(decoded)\n",
    "            original_data.append(data)\n",
    "    return torch.cat(encoded_data), torch.cat(decoded_data), torch.cat(original_data)\n"
   ]
  },
  {
   "cell_type": "code",
   "execution_count": 7,
   "metadata": {},
   "outputs": [],
   "source": [
    "def visualize_results(original, reconstructed, n=10):\n",
    "    try:\n",
    "        # If we're given single images, convert them to batch format\n",
    "        if len(original.shape) == 1:\n",
    "            original = original.unsqueeze(0)\n",
    "        if len(reconstructed.shape) == 1:\n",
    "            reconstructed = reconstructed.unsqueeze(0)\n",
    "        \n",
    "        # Randomly select n indices if we have more than n samples\n",
    "        if original.shape[0] > n:\n",
    "            indices = random.sample(range(original.shape[0]), n)\n",
    "        else:\n",
    "            indices = range(original.shape[0])\n",
    "            n = len(indices)\n",
    "        \n",
    "        plt.figure(figsize=(20, 4))\n",
    "        for i, idx in enumerate(indices):\n",
    "            # Original\n",
    "            ax = plt.subplot(2, n, i + 1)\n",
    "            plt.imshow(original[idx].detach().cpu().reshape(28, 28).numpy())\n",
    "            plt.gray()\n",
    "            ax.get_xaxis().set_visible(False)\n",
    "            ax.get_yaxis().set_visible(False)\n",
    "            \n",
    "            # Reconstructed\n",
    "            ax = plt.subplot(2, n, i + 1 + n)\n",
    "            plt.imshow(reconstructed[idx].detach().cpu().reshape(28, 28).numpy())\n",
    "            plt.gray()\n",
    "            ax.get_xaxis().set_visible(False)\n",
    "            ax.get_yaxis().set_visible(False)\n",
    "        plt.show()\n",
    "    except Exception as e:\n",
    "        print(f\"Error in visualization: {str(e)}\")\n",
    "        print(f\"Original shape: {original.shape}\")\n",
    "        print(f\"Reconstructed shape: {reconstructed.shape}\")"
   ]
  },
  {
   "cell_type": "code",
   "execution_count": 8,
   "metadata": {},
   "outputs": [],
   "source": [
    "\n",
    "# Initialize model, loss function and optimizer\n",
    "model = Autoencoder().to(device)\n",
    "criterion = nn.MSELoss()\n",
    "optimizer = optim.Adam(model.parameters())\n"
   ]
  },
  {
   "cell_type": "code",
   "execution_count": 9,
   "metadata": {},
   "outputs": [
    {
     "name": "stdout",
     "output_type": "stream",
     "text": [
      "Training the model...\n",
      "Epoch: 1, Average Loss: 0.0801\n",
      "Epoch: 2, Average Loss: 0.0511\n",
      "Epoch: 3, Average Loss: 0.0358\n",
      "Epoch: 4, Average Loss: 0.0300\n",
      "Epoch: 5, Average Loss: 0.0273\n",
      "Epoch: 6, Average Loss: 0.0249\n",
      "Epoch: 7, Average Loss: 0.0228\n",
      "Epoch: 8, Average Loss: 0.0212\n",
      "Epoch: 9, Average Loss: 0.0200\n",
      "Epoch: 10, Average Loss: 0.0191\n",
      "Training completed!\n"
     ]
    }
   ],
   "source": [
    "# Train the model\n",
    "print(\"Training the model...\")\n",
    "train(model, optimizer, criterion, epochs=10)\n",
    "print(\"Training completed!\")"
   ]
  },
  {
   "cell_type": "code",
   "execution_count": 10,
   "metadata": {},
   "outputs": [
    {
     "name": "stdout",
     "output_type": "stream",
     "text": [
      "Getting representations...\n",
      "Encoded data shape: torch.Size([60000, 10])\n",
      "Decoded output shape: torch.Size([60000, 784])\n",
      "Original data shape: torch.Size([60000, 784])\n"
     ]
    }
   ],
   "source": [
    "# Get encoded and decoded data\n",
    "print(\"Getting representations...\")\n",
    "encoded_data, decoded_output, original_data = get_representations(train_loader, model)\n",
    "print(f\"Encoded data shape: {encoded_data.shape}\")\n",
    "print(f\"Decoded output shape: {decoded_output.shape}\")\n",
    "print(f\"Original data shape: {original_data.shape}\")"
   ]
  },
  {
   "cell_type": "code",
   "execution_count": 11,
   "metadata": {},
   "outputs": [
    {
     "data": {
      "image/png": "[encoded data removed]",
      "text/plain": [
       "<Figure size 2000x400 with 16 Axes>"
      ]
     },
     "metadata": {},
     "output_type": "display_data"
    }
   ],
   "source": [
    "# Example usage for multiple images\n",
    "indices = random.sample(range(len(train_dataset)), 10)\n",
    "original_imgs = torch.stack([train_dataset[idx][0].view(-1) for idx in indices])\n",
    "decoded_imgs = model(original_imgs.to(device)).cpu()\n",
    "\n",
    "# Visualize multiple image comparisons\n",
    "visualize_results(original_imgs, decoded_imgs, n=8)"
   ]
  },
  {
   "cell_type": "code",
   "execution_count": null,
   "metadata": {},
   "outputs": [],
   "source": []
  }
 ],
 "metadata": {
  "kernelspec": {
   "display_name": ".venv",
   "language": "python",
   "name": "python3"
  },
  "language_info": {
   "codemirror_mode": {
    "name": "ipython",
    "version": 3
   },
   "file_extension": ".py",
   "mimetype": "text/x-python",
   "name": "python",
   "nbconvert_exporter": "python",
   "pygments_lexer": "ipython3",
   "version": "3.10.17"
  }
 },
 "nbformat": 4,
 "nbformat_minor": 2
}
